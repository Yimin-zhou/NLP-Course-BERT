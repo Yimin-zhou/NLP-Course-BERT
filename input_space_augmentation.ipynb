{
 "cells": [
  {
   "cell_type": "code",
   "execution_count": 2,
   "metadata": {},
   "outputs": [
    {
     "name": "stderr",
     "output_type": "stream",
     "text": [
      "/Users/fuyuchuan/opt/anaconda3/envs/nlp/lib/python3.10/site-packages/tqdm/auto.py:21: TqdmWarning: IProgress not found. Please update jupyter and ipywidgets. See https://ipywidgets.readthedocs.io/en/stable/user_install.html\n",
      "  from .autonotebook import tqdm as notebook_tqdm\n"
     ]
    }
   ],
   "source": [
    "import pandas as pd\n",
    "import numpy as np\n",
    "\n",
    "import nlpaug.augmenter.word as naw\n"
   ]
  },
  {
   "cell_type": "code",
   "execution_count": 3,
   "metadata": {},
   "outputs": [],
   "source": [
    "# augmented_data = aug.augment(data)"
   ]
  },
  {
   "cell_type": "code",
   "execution_count": 8,
   "metadata": {},
   "outputs": [],
   "source": [
    "train_20 = pd.read_csv('data/processed/baseline/train_20.csv')\n",
    "train_100 = pd.read_csv('data/processed/baseline/train_100.csv')\n",
    "train_1000 = pd.read_csv('data/processed/baseline/train_1000.csv')\n"
   ]
  },
  {
   "cell_type": "code",
   "execution_count": 11,
   "metadata": {},
   "outputs": [
    {
     "data": {
      "text/plain": [
       "'i ve been playing flight simulators dogfighting games for over years. I could honestly say this is the most frustrating i ve ever played. the controls are like lead è the missions become difficult right off the but. poor instructions and objective add to the frustration, as you will spend a great ieal of time just figuring out wtf you ar supposed to do. i had to resort to walkthroughs just to survive They training mission. the game is also buggy and froze or meet more than once in the brief weeks i wasted my time on it. save your money and check out the ice combat series instead.'"
      ]
     },
     "execution_count": 11,
     "metadata": {},
     "output_type": "execute_result"
    }
   ],
   "source": [
    "aug.augment(train_20.text[0])[0]"
   ]
  },
  {
   "cell_type": "code",
   "execution_count": 29,
   "metadata": {},
   "outputs": [],
   "source": [
    "def augment_data(data, ratio=0.1, k=4):\n",
    "\n",
    "    aug = naw.SpellingAug(dict_path='spelling_en.txt', aug_p=ratio)\n",
    "\n",
    "    augmented_data = pd.DataFrame(columns=['score', 'text'])\n",
    "\n",
    "    for i in range(len(data)):\n",
    "        ori = data['text'][i]\n",
    "        score = data['score'][i]\n",
    "        for j in range(k):\n",
    "            aug_sample = aug.augment(ori)[0]\n",
    "            row = {'score': score, 'text': aug_sample}\n",
    "            augmented_data = pd.concat([augmented_data, pd.DataFrame(row, index=[0])], ignore_index=True)\n",
    "\n",
    "    return augmented_data"
   ]
  },
  {
   "cell_type": "code",
   "execution_count": 30,
   "metadata": {},
   "outputs": [],
   "source": [
    "train_20_4 = augment_data(train_20, 0.1, k=4)\n",
    "train_100_4 = augment_data(train_100, 0.1,k=4)\n",
    "train_1000_4 = augment_data(train_1000, 0.1,k=4)\n",
    "\n",
    "train_100_2 = augment_data(train_100, 0.1,k=2)\n",
    "train_100_8 = augment_data(train_100, 0.1,k=8)\n",
    "train_100_16 = augment_data(train_100, 0.1,k=16)\n",
    "train_100_32 = augment_data(train_100, 0.1,k=32)"
   ]
  },
  {
   "cell_type": "code",
   "execution_count": 31,
   "metadata": {},
   "outputs": [],
   "source": [
    "train_20_4.to_csv('data/processed/spelling/train_20_4.csv', index=False)\n",
    "train_100_4.to_csv('data/processed/spelling/train_100_4.csv', index=False)\n",
    "train_1000_4.to_csv('data/processed/spelling/train_1000_4.csv', index=False)\n",
    "\n",
    "train_100_2.to_csv('data/processed/spelling/train_100_2.csv', index=False)\n",
    "train_100_8.to_csv('data/processed/spelling/train_100_8.csv', index=False)\n",
    "train_100_16.to_csv('data/processed/spelling/train_100_16.csv', index=False)\n",
    "train_100_32.to_csv('data/processed/spelling/train_100_32.csv', index=False)"
   ]
  },
  {
   "cell_type": "code",
   "execution_count": 32,
   "metadata": {},
   "outputs": [
    {
     "data": {
      "text/html": [
       "<div>\n",
       "<style scoped>\n",
       "    .dataframe tbody tr th:only-of-type {\n",
       "        vertical-align: middle;\n",
       "    }\n",
       "\n",
       "    .dataframe tbody tr th {\n",
       "        vertical-align: top;\n",
       "    }\n",
       "\n",
       "    .dataframe thead th {\n",
       "        text-align: right;\n",
       "    }\n",
       "</style>\n",
       "<table border=\"1\" class=\"dataframe\">\n",
       "  <thead>\n",
       "    <tr style=\"text-align: right;\">\n",
       "      <th></th>\n",
       "      <th>score</th>\n",
       "      <th>text</th>\n",
       "    </tr>\n",
       "  </thead>\n",
       "  <tbody>\n",
       "    <tr>\n",
       "      <th>0</th>\n",
       "      <td>0</td>\n",
       "      <td>i ve been playing fligtht simulators dogfighti...</td>\n",
       "    </tr>\n",
       "    <tr>\n",
       "      <th>1</th>\n",
       "      <td>0</td>\n",
       "      <td>i ve been playing flight simulators dogfightin...</td>\n",
       "    </tr>\n",
       "    <tr>\n",
       "      <th>2</th>\n",
       "      <td>0</td>\n",
       "      <td>i and been playing fligtht simulators dogfight...</td>\n",
       "    </tr>\n",
       "    <tr>\n",
       "      <th>3</th>\n",
       "      <td>0</td>\n",
       "      <td>is ve been playing flight simulators dogfighti...</td>\n",
       "    </tr>\n",
       "    <tr>\n",
       "      <th>4</th>\n",
       "      <td>0</td>\n",
       "      <td>i wonder is activision did a marketing study t...</td>\n",
       "    </tr>\n",
       "    <tr>\n",
       "      <th>...</th>\n",
       "      <td>...</td>\n",
       "      <td>...</td>\n",
       "    </tr>\n",
       "    <tr>\n",
       "      <th>75</th>\n",
       "      <td>1</td>\n",
       "      <td>im hot a huge fan of the bottles, but the game...</td>\n",
       "    </tr>\n",
       "    <tr>\n",
       "      <th>76</th>\n",
       "      <td>1</td>\n",
       "      <td>i have trie or times to download this. each ti...</td>\n",
       "    </tr>\n",
       "    <tr>\n",
       "      <th>77</th>\n",
       "      <td>1</td>\n",
       "      <td>i have tried or times to download this. each t...</td>\n",
       "    </tr>\n",
       "    <tr>\n",
       "      <th>78</th>\n",
       "      <td>1</td>\n",
       "      <td>i have tried or times to download this. each t...</td>\n",
       "    </tr>\n",
       "    <tr>\n",
       "      <th>79</th>\n",
       "      <td>1</td>\n",
       "      <td>i heve tried or times to download this. each t...</td>\n",
       "    </tr>\n",
       "  </tbody>\n",
       "</table>\n",
       "<p>80 rows × 2 columns</p>\n",
       "</div>"
      ],
      "text/plain": [
       "   score                                               text\n",
       "0      0  i ve been playing fligtht simulators dogfighti...\n",
       "1      0  i ve been playing flight simulators dogfightin...\n",
       "2      0  i and been playing fligtht simulators dogfight...\n",
       "3      0  is ve been playing flight simulators dogfighti...\n",
       "4      0  i wonder is activision did a marketing study t...\n",
       "..   ...                                                ...\n",
       "75     1  im hot a huge fan of the bottles, but the game...\n",
       "76     1  i have trie or times to download this. each ti...\n",
       "77     1  i have tried or times to download this. each t...\n",
       "78     1  i have tried or times to download this. each t...\n",
       "79     1  i heve tried or times to download this. each t...\n",
       "\n",
       "[80 rows x 2 columns]"
      ]
     },
     "execution_count": 32,
     "metadata": {},
     "output_type": "execute_result"
    }
   ],
   "source": [
    "train_20_4"
   ]
  },
  {
   "cell_type": "code",
   "execution_count": null,
   "metadata": {},
   "outputs": [],
   "source": []
  }
 ],
 "metadata": {
  "kernelspec": {
   "display_name": "nlp",
   "language": "python",
   "name": "python3"
  },
  "language_info": {
   "codemirror_mode": {
    "name": "ipython",
    "version": 3
   },
   "file_extension": ".py",
   "mimetype": "text/x-python",
   "name": "python",
   "nbconvert_exporter": "python",
   "pygments_lexer": "ipython3",
   "version": "3.10.11"
  },
  "orig_nbformat": 4
 },
 "nbformat": 4,
 "nbformat_minor": 2
}
