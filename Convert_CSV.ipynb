{
 "cells": [
  {
   "cell_type": "code",
   "execution_count": 3,
   "id": "07e6b9e4",
   "metadata": {},
   "outputs": [],
   "source": [
    "import pandas as pd\n",
    "\n",
    "df100 = pd.read_csv('data/baseline/train_100.csv')\n"
   ]
  },
  {
   "cell_type": "code",
   "execution_count": 2,
   "id": "448251b2",
   "metadata": {},
   "outputs": [
    {
     "data": {
      "text/html": [
       "<div>\n",
       "<style scoped>\n",
       "    .dataframe tbody tr th:only-of-type {\n",
       "        vertical-align: middle;\n",
       "    }\n",
       "\n",
       "    .dataframe tbody tr th {\n",
       "        vertical-align: top;\n",
       "    }\n",
       "\n",
       "    .dataframe thead th {\n",
       "        text-align: right;\n",
       "    }\n",
       "</style>\n",
       "<table border=\"1\" class=\"dataframe\">\n",
       "  <thead>\n",
       "    <tr style=\"text-align: right;\">\n",
       "      <th></th>\n",
       "      <th>score</th>\n",
       "      <th>text</th>\n",
       "    </tr>\n",
       "  </thead>\n",
       "  <tbody>\n",
       "    <tr>\n",
       "      <th>0</th>\n",
       "      <td>0</td>\n",
       "      <td>pretty good easy use tried honey mustard balsa...</td>\n",
       "    </tr>\n",
       "    <tr>\n",
       "      <th>1</th>\n",
       "      <td>1</td>\n",
       "      <td>every morning drink swallows bottle water add ...</td>\n",
       "    </tr>\n",
       "    <tr>\n",
       "      <th>2</th>\n",
       "      <td>1</td>\n",
       "      <td>grew chesapeake bay eaten share well shares cr...</td>\n",
       "    </tr>\n",
       "    <tr>\n",
       "      <th>3</th>\n",
       "      <td>1</td>\n",
       "      <td>year dog eager eater loves food old would limi...</td>\n",
       "    </tr>\n",
       "    <tr>\n",
       "      <th>4</th>\n",
       "      <td>1</td>\n",
       "      <td>product tastefully presented contents exquisit...</td>\n",
       "    </tr>\n",
       "    <tr>\n",
       "      <th>...</th>\n",
       "      <td>...</td>\n",
       "      <td>...</td>\n",
       "    </tr>\n",
       "    <tr>\n",
       "      <th>95</th>\n",
       "      <td>1</td>\n",
       "      <td>ladyfingers fresh delicious even others commen...</td>\n",
       "    </tr>\n",
       "    <tr>\n",
       "      <th>96</th>\n",
       "      <td>1</td>\n",
       "      <td>gave gift dear friend tolerate caffeine real c...</td>\n",
       "    </tr>\n",
       "    <tr>\n",
       "      <th>97</th>\n",
       "      <td>1</td>\n",
       "      <td>see lot type energy drink infomercials truthfu...</td>\n",
       "    </tr>\n",
       "    <tr>\n",
       "      <th>98</th>\n",
       "      <td>1</td>\n",
       "      <td>usually look cheaper products offer filling me...</td>\n",
       "    </tr>\n",
       "    <tr>\n",
       "      <th>99</th>\n",
       "      <td>1</td>\n",
       "      <td>chrysanthemu tea reched well unfortunaltely tw...</td>\n",
       "    </tr>\n",
       "  </tbody>\n",
       "</table>\n",
       "<p>100 rows × 2 columns</p>\n",
       "</div>"
      ],
      "text/plain": [
       "    score                                               text\n",
       "0       0  pretty good easy use tried honey mustard balsa...\n",
       "1       1  every morning drink swallows bottle water add ...\n",
       "2       1  grew chesapeake bay eaten share well shares cr...\n",
       "3       1  year dog eager eater loves food old would limi...\n",
       "4       1  product tastefully presented contents exquisit...\n",
       "..    ...                                                ...\n",
       "95      1  ladyfingers fresh delicious even others commen...\n",
       "96      1  gave gift dear friend tolerate caffeine real c...\n",
       "97      1  see lot type energy drink infomercials truthfu...\n",
       "98      1  usually look cheaper products offer filling me...\n",
       "99      1  chrysanthemu tea reched well unfortunaltely tw...\n",
       "\n",
       "[100 rows x 2 columns]"
      ]
     },
     "execution_count": 2,
     "metadata": {},
     "output_type": "execute_result"
    }
   ],
   "source": [
    "df100"
   ]
  },
  {
   "cell_type": "code",
   "execution_count": 4,
   "id": "f8b2d32c",
   "metadata": {},
   "outputs": [],
   "source": [
    "labels = df100['score']\n",
    "sentences = df100['text']\n",
    "\n",
    "with open('labels_before.txt', 'w') as file:\n",
    "    file.write('\\n'.join(str(label) for label in labels))\n",
    "\n",
    "with open('sentences_before.txt', 'w') as file:\n",
    "    file.write('\\n'.join(str(sentence) for sentence in sentences))"
   ]
  },
  {
   "cell_type": "code",
   "execution_count": 6,
   "id": "cb8f731f",
   "metadata": {},
   "outputs": [],
   "source": [
    "import string\n",
    "import unicodedata\n",
    "\n",
    "# Read the CSV file\n",
    "data = pd.read_csv('data/baseline/output.csv')\n",
    "\n",
    "# Remove punctuation from the text column\n",
    "data['text'] = data['text'].str.replace('[^\\w\\s]','', regex=True)\n",
    "\n",
    "# Save the modified DataFrame to a new CSV file\n",
    "data.to_csv('data/baseline/output3.csv', index=False)"
   ]
  },
  {
   "cell_type": "code",
   "execution_count": null,
   "id": "43cf22ca",
   "metadata": {},
   "outputs": [],
   "source": []
  }
 ],
 "metadata": {
  "kernelspec": {
   "display_name": "Python 3 (ipykernel)",
   "language": "python",
   "name": "python3"
  },
  "language_info": {
   "codemirror_mode": {
    "name": "ipython",
    "version": 3
   },
   "file_extension": ".py",
   "mimetype": "text/x-python",
   "name": "python",
   "nbconvert_exporter": "python",
   "pygments_lexer": "ipython3",
   "version": "3.9.5"
  }
 },
 "nbformat": 4,
 "nbformat_minor": 5
}
