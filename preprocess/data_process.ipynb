{
 "cells": [
  {
   "cell_type": "code",
   "execution_count": 91,
   "metadata": {},
   "outputs": [],
   "source": [
    "import pandas as pd\n",
    "import numpy as np\n",
    "import re as re\n",
    "import gzip\n",
    "import json"
   ]
  },
  {
   "attachments": {},
   "cell_type": "markdown",
   "metadata": {},
   "source": [
    "#### 1. read whole dataset"
   ]
  },
  {
   "cell_type": "code",
   "execution_count": 92,
   "metadata": {},
   "outputs": [],
   "source": [
    "### load the meta data\n",
    "\n",
    "data = []\n",
    "with gzip.open('../data/Video_Games_5.json.gz') as f:\n",
    "    for l in f:\n",
    "        data.append(json.loads(l.strip()))\n",
    "\n",
    "df_all = pd.DataFrame.from_dict(data)"
   ]
  },
  {
   "attachments": {},
   "cell_type": "markdown",
   "metadata": {},
   "source": [
    "#### 2. positive or negative"
   ]
  },
  {
   "cell_type": "code",
   "execution_count": 93,
   "metadata": {},
   "outputs": [],
   "source": [
    "# 1 positive, 0 negative review\n",
    "def score_round(x):\n",
    "    if x>=3:\n",
    "        return 1\n",
    "    else: \n",
    "        return 0\n",
    "    \n",
    "new_df_all = pd.DataFrame({'score': df_all['overall'].apply(score_round), 'text': df_all['reviewText']})"
   ]
  },
  {
   "attachments": {},
   "cell_type": "markdown",
   "metadata": {},
   "source": [
    "#### 3. clean text"
   ]
  },
  {
   "cell_type": "code",
   "execution_count": 94,
   "metadata": {},
   "outputs": [
    {
     "name": "stdout",
     "output_type": "stream",
     "text": [
      "null rows:\n",
      "score    0\n",
      "text     0\n",
      "dtype: int64\n"
     ]
    },
    {
     "data": {
      "text/plain": [
       "(401694, 2)"
      ]
     },
     "execution_count": 94,
     "metadata": {},
     "output_type": "execute_result"
    }
   ],
   "source": [
    "# remove null rows\n",
    "new_df_all = new_df_all.dropna()\n",
    "print(f\"null rows:\\n{new_df_all.isnull().sum()}\")\n",
    "\n",
    "# remove duplicates\n",
    "new_df_all = new_df_all.drop_duplicates()\n",
    "new_df_all.shape"
   ]
  },
  {
   "cell_type": "code",
   "execution_count": 95,
   "metadata": {},
   "outputs": [],
   "source": [
    "# remove hyperlinks and markup tags\n",
    "def remove_markup(raw):\n",
    "    result = re.sub(\"<[a][^>]*>(.+?)</[a]>\", 'Link.', raw)\n",
    "    result = re.sub('&gt;', \"\", result)\n",
    "    result = re.sub('&#x27;', \"'\", result)\n",
    "    result = re.sub('&quot;', '\"', result)\n",
    "    result = re.sub('&#x2F;', ' ', result)\n",
    "    result = re.sub('<p>', ' ', result)\n",
    "    result = re.sub('</i>', '', result)\n",
    "    result = re.sub('&#62;', '', result)\n",
    "    result = re.sub('<i>', ' ', result)\n",
    "    result = re.sub(\"\\n\", '', result)\n",
    "    return result\n",
    "\n",
    "# remove numbers\n",
    "def remove_numbers(text):\n",
    "    result = re.sub(r'\\d+', '', text)\n",
    "    return result\n",
    "\n",
    "# remove emojis\n",
    "def remove_emojis(text):\n",
    "    emoji_pattern = re.compile(\"[\"\n",
    "                           u\"\\U0001F600-\\U0001F64F\"  # emoticons\n",
    "                           u\"\\U0001F300-\\U0001F5FF\"  # symbols & pictographs\n",
    "                           u\"\\U0001F680-\\U0001F6FF\"  # transport & map symbols\n",
    "                           u\"\\U0001F1E0-\\U0001F1FF\"  # flags (iOS)\n",
    "                           u\"\\U00002702-\\U000027B0\"\n",
    "                           u\"\\U000024C2-\\U0001F251\"\n",
    "                           \"]+\", flags=re.UNICODE)\n",
    "    result = emoji_pattern.sub(r'', text)\n",
    "    return result\n",
    "\n",
    "# unify whitespace\n",
    "def unify_whitespace(text):\n",
    "    result = re.sub(' +', ' ', text)\n",
    "    return result\n",
    "\n",
    "# remove symbols\n",
    "def remove_symbols(text):\n",
    "    result = re.sub(r\"[^a-zA-Z0-9?!.,]+\", ' ', text)\n",
    "    return result\n",
    "\n",
    "# remove punctuation\n",
    "def remove_punctuation(text):\n",
    "    result = \"\".join(u for u in text if u not in (\"?\", \".\", \";\", \":\",  \"!\",'\"',','))\n",
    "    return result\n",
    "\n",
    "# remove stopwords\n",
    "import nltk\n",
    "from nltk.corpus import stopwords\n",
    "stop_words = set(stopwords.words('english'))\n",
    "def remove_stopwords(text):\n",
    "    result = ' '.join([i for i in text.split() if not i in stop_words])\n",
    "    return result\n",
    "\n",
    "# apply all functions\n",
    "def preprocess(text):\n",
    "    text = remove_markup(text)\n",
    "    text = remove_emojis(text)\n",
    "    text = text.lower()\n",
    "    text = remove_numbers(text)\n",
    "    # text = unify_whitespace(text)\n",
    "    text = remove_symbols(text)\n",
    "    # text = remove_punctuation(text)\n",
    "    # text = remove_stopwords(text)\n",
    "    return text"
   ]
  },
  {
   "cell_type": "code",
   "execution_count": 96,
   "metadata": {},
   "outputs": [
    {
     "data": {
      "text/html": [
       "<div>\n",
       "<style scoped>\n",
       "    .dataframe tbody tr th:only-of-type {\n",
       "        vertical-align: middle;\n",
       "    }\n",
       "\n",
       "    .dataframe tbody tr th {\n",
       "        vertical-align: top;\n",
       "    }\n",
       "\n",
       "    .dataframe thead th {\n",
       "        text-align: right;\n",
       "    }\n",
       "</style>\n",
       "<table border=\"1\" class=\"dataframe\">\n",
       "  <thead>\n",
       "    <tr style=\"text-align: right;\">\n",
       "      <th></th>\n",
       "      <th>score</th>\n",
       "      <th>text</th>\n",
       "      <th>length</th>\n",
       "    </tr>\n",
       "  </thead>\n",
       "  <tbody>\n",
       "    <tr>\n",
       "      <th>0</th>\n",
       "      <td>1</td>\n",
       "      <td>this game is a bit hard to get the hang of, bu...</td>\n",
       "      <td>18</td>\n",
       "    </tr>\n",
       "    <tr>\n",
       "      <th>1</th>\n",
       "      <td>1</td>\n",
       "      <td>i played it a while but it was alright. the st...</td>\n",
       "      <td>65</td>\n",
       "    </tr>\n",
       "    <tr>\n",
       "      <th>3</th>\n",
       "      <td>0</td>\n",
       "      <td>found the game a bit too complicated, not what...</td>\n",
       "      <td>17</td>\n",
       "    </tr>\n",
       "    <tr>\n",
       "      <th>4</th>\n",
       "      <td>1</td>\n",
       "      <td>great game, i love it and have played it since...</td>\n",
       "      <td>12</td>\n",
       "    </tr>\n",
       "    <tr>\n",
       "      <th>5</th>\n",
       "      <td>1</td>\n",
       "      <td>i liked a lot some time that i haven t play a ...</td>\n",
       "      <td>22</td>\n",
       "    </tr>\n",
       "    <tr>\n",
       "      <th>...</th>\n",
       "      <td>...</td>\n",
       "      <td>...</td>\n",
       "      <td>...</td>\n",
       "    </tr>\n",
       "    <tr>\n",
       "      <th>497571</th>\n",
       "      <td>1</td>\n",
       "      <td>this work great and easy to replace, i would n...</td>\n",
       "      <td>24</td>\n",
       "    </tr>\n",
       "    <tr>\n",
       "      <th>497572</th>\n",
       "      <td>1</td>\n",
       "      <td>not oem but good replacement parts</td>\n",
       "      <td>6</td>\n",
       "    </tr>\n",
       "    <tr>\n",
       "      <th>497574</th>\n",
       "      <td>1</td>\n",
       "      <td>this does add some kids room things that are v...</td>\n",
       "      <td>69</td>\n",
       "    </tr>\n",
       "    <tr>\n",
       "      <th>497575</th>\n",
       "      <td>1</td>\n",
       "      <td>i think i originally began playing bioshock se...</td>\n",
       "      <td>776</td>\n",
       "    </tr>\n",
       "    <tr>\n",
       "      <th>497576</th>\n",
       "      <td>0</td>\n",
       "      <td>the graphics are terrible, it looks like ps gr...</td>\n",
       "      <td>40</td>\n",
       "    </tr>\n",
       "  </tbody>\n",
       "</table>\n",
       "<p>381098 rows × 3 columns</p>\n",
       "</div>"
      ],
      "text/plain": [
       "        score                                               text  length\n",
       "0           1  this game is a bit hard to get the hang of, bu...      18\n",
       "1           1  i played it a while but it was alright. the st...      65\n",
       "3           0  found the game a bit too complicated, not what...      17\n",
       "4           1  great game, i love it and have played it since...      12\n",
       "5           1  i liked a lot some time that i haven t play a ...      22\n",
       "...       ...                                                ...     ...\n",
       "497571      1  this work great and easy to replace, i would n...      24\n",
       "497572      1                 not oem but good replacement parts       6\n",
       "497574      1  this does add some kids room things that are v...      69\n",
       "497575      1  i think i originally began playing bioshock se...     776\n",
       "497576      0  the graphics are terrible, it looks like ps gr...      40\n",
       "\n",
       "[381098 rows x 3 columns]"
      ]
     },
     "execution_count": 96,
     "metadata": {},
     "output_type": "execute_result"
    }
   ],
   "source": [
    "new_df_all['text'] = new_df_all['text'].apply(preprocess)\n",
    "new_df_all['length'] = new_df_all['text'].apply(lambda x: len(x.split()))\n",
    "new_df_all = new_df_all[new_df_all.length >= 5]\n",
    "new_df_all"
   ]
  },
  {
   "attachments": {},
   "cell_type": "markdown",
   "metadata": {},
   "source": [
    "### 4. save to csv"
   ]
  },
  {
   "cell_type": "code",
   "execution_count": 97,
   "metadata": {},
   "outputs": [],
   "source": [
    "# save all to csv\n",
    "new_df_all = new_df_all[['score', 'text']]\n",
    "new_df_all.to_csv('../data/processed/all.csv', index=False)"
   ]
  },
  {
   "cell_type": "code",
   "execution_count": 98,
   "metadata": {},
   "outputs": [],
   "source": [
    "random_state = 42\n",
    "\n",
    "new_df_all_pos = new_df_all[new_df_all.score == 1]\n",
    "new_df_all_neg = new_df_all[new_df_all.score == 0]\n",
    "\n",
    "new_df_all_pos_selected = new_df_all_pos.sample(n=2500, random_state=random_state)\n",
    "new_df_all_neg_selected = new_df_all_neg.sample(n=2500, random_state=random_state)\n",
    "\n",
    "df_samples = pd.concat([new_df_all_pos_selected, new_df_all_neg_selected])\n",
    "\n"
   ]
  },
  {
   "cell_type": "code",
   "execution_count": 99,
   "metadata": {},
   "outputs": [
    {
     "data": {
      "text/html": [
       "<div>\n",
       "<style scoped>\n",
       "    .dataframe tbody tr th:only-of-type {\n",
       "        vertical-align: middle;\n",
       "    }\n",
       "\n",
       "    .dataframe tbody tr th {\n",
       "        vertical-align: top;\n",
       "    }\n",
       "\n",
       "    .dataframe thead th {\n",
       "        text-align: right;\n",
       "    }\n",
       "</style>\n",
       "<table border=\"1\" class=\"dataframe\">\n",
       "  <thead>\n",
       "    <tr style=\"text-align: right;\">\n",
       "      <th></th>\n",
       "      <th>text</th>\n",
       "    </tr>\n",
       "  </thead>\n",
       "  <tbody>\n",
       "    <tr>\n",
       "      <th>199269</th>\n",
       "      <td>risen would have been a decent game if it came...</td>\n",
       "    </tr>\n",
       "    <tr>\n",
       "      <th>120739</th>\n",
       "      <td>tired of a mediocre at best game freezing on m...</td>\n",
       "    </tr>\n",
       "    <tr>\n",
       "      <th>101008</th>\n",
       "      <td>the pink is cute but the items look cheap so i...</td>\n",
       "    </tr>\n",
       "    <tr>\n",
       "      <th>129690</th>\n",
       "      <td>before you randomly rate this review please ju...</td>\n",
       "    </tr>\n",
       "    <tr>\n",
       "      <th>424478</th>\n",
       "      <td>collector here. arrived in really bad conditio...</td>\n",
       "    </tr>\n",
       "    <tr>\n",
       "      <th>...</th>\n",
       "      <td>...</td>\n",
       "    </tr>\n",
       "    <tr>\n",
       "      <th>124099</th>\n",
       "      <td>when you said new you meant it, it was still i...</td>\n",
       "    </tr>\n",
       "    <tr>\n",
       "      <th>240219</th>\n",
       "      <td>kick butt game lots of fun.</td>\n",
       "    </tr>\n",
       "    <tr>\n",
       "      <th>462868</th>\n",
       "      <td>we all love this orange raging rodent on the p...</td>\n",
       "    </tr>\n",
       "    <tr>\n",
       "      <th>42542</th>\n",
       "      <td>the gameboy advance is my favorite gaming devi...</td>\n",
       "    </tr>\n",
       "    <tr>\n",
       "      <th>225519</th>\n",
       "      <td>the ps arcade table stick is my first home con...</td>\n",
       "    </tr>\n",
       "  </tbody>\n",
       "</table>\n",
       "<p>20000 rows × 1 columns</p>\n",
       "</div>"
      ],
      "text/plain": [
       "                                                     text\n",
       "199269  risen would have been a decent game if it came...\n",
       "120739  tired of a mediocre at best game freezing on m...\n",
       "101008  the pink is cute but the items look cheap so i...\n",
       "129690  before you randomly rate this review please ju...\n",
       "424478  collector here. arrived in really bad conditio...\n",
       "...                                                   ...\n",
       "124099  when you said new you meant it, it was still i...\n",
       "240219                        kick butt game lots of fun.\n",
       "462868  we all love this orange raging rodent on the p...\n",
       "42542   the gameboy advance is my favorite gaming devi...\n",
       "225519  the ps arcade table stick is my first home con...\n",
       "\n",
       "[20000 rows x 1 columns]"
      ]
     },
     "execution_count": 99,
     "metadata": {},
     "output_type": "execute_result"
    }
   ],
   "source": [
    "# Create unsupervised data for UDA\n",
    "\n",
    "new_df_all_pos_not_selected = new_df_all_pos.drop(new_df_all_pos_selected.index)\n",
    "new_df_all_neg_not_selected = new_df_all_neg.drop(new_df_all_neg_selected.index)\n",
    "\n",
    "unsup_neg = new_df_all_neg_not_selected.sample(n=10000, random_state=random_state)\n",
    "unsup_pos = new_df_all_pos_not_selected.sample(n=10000, random_state=random_state)\n",
    "unsup = pd.concat([unsup_neg, unsup_pos])\n",
    "unsup = unsup[['text']]\n",
    "unsup.to_csv(f\"../data/processed/unsup_20000.csv\", index=False)\n",
    "unsup"
   ]
  },
  {
   "cell_type": "code",
   "execution_count": 100,
   "metadata": {},
   "outputs": [],
   "source": [
    "from sklearn.model_selection import train_test_split\n",
    "\n",
    "train = 3000\n",
    "# valid = 1000\n",
    "test = 2000\n",
    "\n",
    "# small\n",
    "small_train = 100\n",
    "small_test = 2000\n",
    "\n",
    "# big\n",
    "big_train = 1000\n",
    "big_test = 2000\n",
    "\n",
    "# train_set, remaining_set = train_test_split(df_samples, \\\n",
    "#                                             train_size=train, random_state=random_state)\n",
    "# val_set, test_set = train_test_split(remaining_set, \\\n",
    "#                                      train_size=valid, test_size=test, random_state=random_state)\n",
    "\n",
    "# randomly split train 3000, test 2000\n",
    "train_3k, test_2k = train_test_split(df_samples, \\\n",
    "                                            train_size=train, random_state=random_state)\n",
    "\n",
    "train_3k.to_csv(f\"../data/processed/train_{train}.csv\", index=False)\n",
    "test_2k.to_csv(f\"../data/processed/test_{test}.csv\", index=False)"
   ]
  },
  {
   "cell_type": "code",
   "execution_count": 101,
   "metadata": {},
   "outputs": [],
   "source": [
    "# small train set\n",
    "train_samll = train_3k.sample(n=100, random_state=random_state)\n",
    "test_samll= test_2k\n",
    "\n",
    "train_samll.to_csv(f\"../data/processed/train_{small_train}.csv\", index=False)\n",
    "test_samll.to_csv(f\"../data/processed/test_{small_test}.csv\", index=False)"
   ]
  },
  {
   "cell_type": "code",
   "execution_count": 102,
   "metadata": {},
   "outputs": [],
   "source": [
    "# big train set\n",
    "train_big = train_3k.sample(n=1000, random_state=random_state)\n",
    "test_big = test_2k\n",
    "\n",
    "train_big.to_csv(f\"../data/processed/train_{big_train}.csv\", index=False)\n",
    "test_big.to_csv(f\"../data/processed/test_{big_test}.csv\", index=False)"
   ]
  },
  {
   "cell_type": "code",
   "execution_count": null,
   "metadata": {},
   "outputs": [],
   "source": []
  },
  {
   "cell_type": "code",
   "execution_count": null,
   "metadata": {},
   "outputs": [],
   "source": []
  }
 ],
 "metadata": {
  "kernelspec": {
   "display_name": ".venv",
   "language": "python",
   "name": "python3"
  },
  "language_info": {
   "codemirror_mode": {
    "name": "ipython",
    "version": 3
   },
   "file_extension": ".py",
   "mimetype": "text/x-python",
   "name": "python",
   "nbconvert_exporter": "python",
   "pygments_lexer": "ipython3",
   "version": "3.10.9"
  },
  "orig_nbformat": 4
 },
 "nbformat": 4,
 "nbformat_minor": 2
}
