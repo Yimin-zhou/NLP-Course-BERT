{
 "cells": [
  {
   "cell_type": "code",
   "execution_count": null,
   "metadata": {},
   "outputs": [],
   "source": [
    "!pip install -r requirements.txt"
   ]
  },
  {
   "cell_type": "code",
   "execution_count": null,
   "metadata": {},
   "outputs": [],
   "source": [
    "import pandas as pd\n",
    "\n",
    "df100 = pd.read_csv('data/baseline/train_100.csv')\n",
    "\n",
    "labels = df100['score']\n",
    "sentences = df100['text']\n",
    "\n",
    "with open('labels_before.txt', 'w') as file:\n",
    "    file.write('\\n'.join(str(label) for label in labels))\n",
    "\n",
    "with open('sentences_before.txt', 'w') as file:\n",
    "    file.write('\\n'.join(str(sentence) for sentence in sentences))"
   ]
  },
  {
   "cell_type": "code",
   "execution_count": null,
   "metadata": {
    "colab": {
     "base_uri": "https://localhost:8080/"
    },
    "id": "FBNYjQzlCW5z",
    "outputId": "bd82871e-438a-4a6c-f528-c9387e2dcc39"
   },
   "outputs": [
    {
     "name": "stdout",
     "output_type": "stream",
     "text": [
      "Downloading: 100% 570/570 [00:00<00:00, 388kB/s]\n",
      "Downloading: 100% 420M/420M [00:04<00:00, 95.3MB/s]\n",
      "Some weights of the model checkpoint at bert-base-uncased were not used when initializing BertForMaskedLM: ['cls.seq_relationship.weight', 'cls.seq_relationship.bias']\n",
      "- This IS expected if you are initializing BertForMaskedLM from the checkpoint of a model trained on another task or with another architecture (e.g. initializing a BertForSequenceClassification model from a BertForPreTraining model).\n",
      "- This IS NOT expected if you are initializing BertForMaskedLM from the checkpoint of a model that you expect to be exactly identical (initializing a BertForSequenceClassification model from a BertForSequenceClassification model).\n",
      "Downloading: 100% 28.0/28.0 [00:00<00:00, 17.6kB/s]\n",
      "Downloading: 100% 226k/226k [00:00<00:00, 28.2MB/s]\n",
      "Downloading: 100% 455k/455k [00:00<00:00, 44.5MB/s]\n",
      "2023-06-10 22:40:15.011665: I tensorflow/core/platform/cpu_feature_guard.cc:182] This TensorFlow binary is optimized to use available CPU instructions in performance-critical operations.\n",
      "To enable the following instructions: AVX2 FMA, in other operations, rebuild TensorFlow with the appropriate compiler flags.\n",
      "2023-06-10 22:40:16.140187: W tensorflow/compiler/tf2tensorrt/utils/py_utils.cc:38] TF-TRT Warning: Could not find TensorRT\n"
     ]
    }
   ],
   "source": [
    "!python ssmba.py --model bert-base-uncased --in-file sentences_before.txt --label-file labels_before.txt --output-prefix ssmba_out --noise-prob 0.25 --num-samples 3 --topk 10"
   ]
  },
  {
   "cell_type": "code",
   "execution_count": null,
   "metadata": {
    "id": "pS72FVdWCW_h"
   },
   "outputs": [],
   "source": [
    "import string\n",
    "import unicodedata\n",
    "\n",
    "# Read the sentences from the text file\n",
    "with open('ssmba_out', 'r') as file:\n",
    "    sentences = file.read().splitlines()\n",
    "\n",
    "# Read the labels from the text file\n",
    "with open('ssmba_out.label', 'r') as file:\n",
    "    labels = file.read().splitlines()\n",
    "\n",
    "# Create a DataFrame from the sentences and labels\n",
    "data = pd.DataFrame({'score': labels, 'text': sentences})\n",
    "\n",
    "data['text'] = data['text'].str.replace('[^\\w\\s]','', regex=True)\n",
    "\n",
    "data.to_csv('test_da100.csv', index=False)"
   ]
  },
  {
   "cell_type": "code",
   "execution_count": null,
   "metadata": {
    "id": "5SK3dJZKlQdo"
   },
   "outputs": [],
   "source": []
  }
 ],
 "metadata": {
  "colab": {
   "provenance": []
  },
  "kernelspec": {
   "display_name": "Python 3 (ipykernel)",
   "language": "python",
   "name": "python3"
  },
  "language_info": {
   "codemirror_mode": {
    "name": "ipython",
    "version": 3
   },
   "file_extension": ".py",
   "mimetype": "text/x-python",
   "name": "python",
   "nbconvert_exporter": "python",
   "pygments_lexer": "ipython3",
   "version": "3.9.5"
  }
 },
 "nbformat": 4,
 "nbformat_minor": 1
}
